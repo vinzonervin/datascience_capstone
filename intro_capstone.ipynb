{
 "cells": [
  {
   "cell_type": "markdown",
   "metadata": {},
   "source": [
    "# Manila: The New Normal "
   ]
  },
  {
   "cell_type": "markdown",
   "metadata": {},
   "source": [
    "## I. Introduction"
   ]
  },
  {
   "cell_type": "markdown",
   "metadata": {},
   "source": [
    "The year is 2020, where COVID-19 has baffled each and everyone of us to survive, every place is subjected to quarantines and we are locked down in our own houses. The city of Manila is one of those areas that are subjected to be quarantined Enhanced Community Quarantine to be precise. After almost two months and a half, Manila is still in placed of quarantine but  now under General Community Quarantine starting June 1, 2020.  What is General Community Quarantine, what will be the impact of its implementation to establishments in each district and how can we react on this new guidelines."
   ]
  },
  {
   "cell_type": "markdown",
   "metadata": {},
   "source": [
    "**General Community Quarantine (GCQ)**  \n",
    "  Category I Industries -  Power, energy, water and other utilities, agriculture, fishery and forestry industries, food manufacturing and food supply chain stores, and food preparation establishments insofar as take-out and delivery services, food delivery services, health-related establishments, the logistics sector, information technology and telecommunication companies, the media, at *full operational capacity*."
   ]
  },
  {
   "cell_type": "markdown",
   "metadata": {},
   "source": [
    "## II. Data Description"
   ]
  },
  {
   "cell_type": "markdown",
   "metadata": {},
   "source": [
    "To solve the problem stated I used the following data:\n",
    "  * **Official Gazette of the Philippines website** for the guideline of GCQ.\n",
    "  * **Wikipedia** to get the  district names of manila and its postcodes.\n",
    "  * **Foursquare** to get the most common venues nearby the given district.\n",
    "  * **Google Maps**,*What's here* option to get the coordinates of each district.  "
   ]
  },
  {
   "cell_type": "markdown",
   "metadata": {},
   "source": [
    "As a database I did use my extracted data from wikipedia and placed it into a csv file together with the coordinates I got from Google Maps What's here option. "
   ]
  },
  {
   "cell_type": "code",
   "execution_count": 3,
   "metadata": {},
   "outputs": [
    {
     "data": {
      "text/html": [
       "<div>\n",
       "<style scoped>\n",
       "    .dataframe tbody tr th:only-of-type {\n",
       "        vertical-align: middle;\n",
       "    }\n",
       "\n",
       "    .dataframe tbody tr th {\n",
       "        vertical-align: top;\n",
       "    }\n",
       "\n",
       "    .dataframe thead th {\n",
       "        text-align: right;\n",
       "    }\n",
       "</style>\n",
       "<table border=\"1\" class=\"dataframe\">\n",
       "  <thead>\n",
       "    <tr style=\"text-align: right;\">\n",
       "      <th></th>\n",
       "      <th>Postal Code</th>\n",
       "      <th>District Name</th>\n",
       "      <th>City</th>\n",
       "      <th>Latitude</th>\n",
       "      <th>Longitude</th>\n",
       "    </tr>\n",
       "  </thead>\n",
       "  <tbody>\n",
       "    <tr>\n",
       "      <th>0</th>\n",
       "      <td>1001</td>\n",
       "      <td>Quiapo</td>\n",
       "      <td>Manila</td>\n",
       "      <td>14.598485</td>\n",
       "      <td>120.986142</td>\n",
       "    </tr>\n",
       "    <tr>\n",
       "      <th>1</th>\n",
       "      <td>1002</td>\n",
       "      <td>Intramuros</td>\n",
       "      <td>Manila</td>\n",
       "      <td>14.590882</td>\n",
       "      <td>120.974668</td>\n",
       "    </tr>\n",
       "    <tr>\n",
       "      <th>2</th>\n",
       "      <td>1003</td>\n",
       "      <td>Santa Cruz</td>\n",
       "      <td>Manila</td>\n",
       "      <td>14.618160</td>\n",
       "      <td>120.984746</td>\n",
       "    </tr>\n",
       "    <tr>\n",
       "      <th>3</th>\n",
       "      <td>1004</td>\n",
       "      <td>Malate</td>\n",
       "      <td>Manila</td>\n",
       "      <td>14.572039</td>\n",
       "      <td>120.992129</td>\n",
       "    </tr>\n",
       "    <tr>\n",
       "      <th>4</th>\n",
       "      <td>1005</td>\n",
       "      <td>San Miguel</td>\n",
       "      <td>Manila</td>\n",
       "      <td>14.595627</td>\n",
       "      <td>120.992666</td>\n",
       "    </tr>\n",
       "    <tr>\n",
       "      <th>5</th>\n",
       "      <td>1006</td>\n",
       "      <td>Binondo</td>\n",
       "      <td>Manila</td>\n",
       "      <td>14.601826</td>\n",
       "      <td>120.974956</td>\n",
       "    </tr>\n",
       "    <tr>\n",
       "      <th>6</th>\n",
       "      <td>1007</td>\n",
       "      <td>Paco</td>\n",
       "      <td>Manila</td>\n",
       "      <td>14.585956</td>\n",
       "      <td>120.993923</td>\n",
       "    </tr>\n",
       "    <tr>\n",
       "      <th>7</th>\n",
       "      <td>1008</td>\n",
       "      <td>Sampaloc</td>\n",
       "      <td>Manila</td>\n",
       "      <td>14.611135</td>\n",
       "      <td>120.996290</td>\n",
       "    </tr>\n",
       "    <tr>\n",
       "      <th>8</th>\n",
       "      <td>1009</td>\n",
       "      <td>Santa Ana</td>\n",
       "      <td>Manila</td>\n",
       "      <td>14.582749</td>\n",
       "      <td>121.013396</td>\n",
       "    </tr>\n",
       "    <tr>\n",
       "      <th>9</th>\n",
       "      <td>1010</td>\n",
       "      <td>San Nicolas</td>\n",
       "      <td>Manila</td>\n",
       "      <td>14.598296</td>\n",
       "      <td>120.968915</td>\n",
       "    </tr>\n",
       "    <tr>\n",
       "      <th>10</th>\n",
       "      <td>1011</td>\n",
       "      <td>Pandacan</td>\n",
       "      <td>Manila</td>\n",
       "      <td>14.589910</td>\n",
       "      <td>121.003090</td>\n",
       "    </tr>\n",
       "    <tr>\n",
       "      <th>11</th>\n",
       "      <td>1012</td>\n",
       "      <td>Tondo</td>\n",
       "      <td>Manila</td>\n",
       "      <td>14.620800</td>\n",
       "      <td>120.965897</td>\n",
       "    </tr>\n",
       "    <tr>\n",
       "      <th>12</th>\n",
       "      <td>1016</td>\n",
       "      <td>Santa Mesa</td>\n",
       "      <td>Manila</td>\n",
       "      <td>14.597742</td>\n",
       "      <td>121.017614</td>\n",
       "    </tr>\n",
       "    <tr>\n",
       "      <th>13</th>\n",
       "      <td>1017</td>\n",
       "      <td>San Andres Bukid</td>\n",
       "      <td>Manila</td>\n",
       "      <td>14.572515</td>\n",
       "      <td>121.003684</td>\n",
       "    </tr>\n",
       "    <tr>\n",
       "      <th>14</th>\n",
       "      <td>1018</td>\n",
       "      <td>Port Area</td>\n",
       "      <td>Manila</td>\n",
       "      <td>14.594557</td>\n",
       "      <td>120.960684</td>\n",
       "    </tr>\n",
       "    <tr>\n",
       "      <th>15</th>\n",
       "      <td>1000</td>\n",
       "      <td>Ermita</td>\n",
       "      <td>Manila</td>\n",
       "      <td>14.586255</td>\n",
       "      <td>120.987430</td>\n",
       "    </tr>\n",
       "  </tbody>\n",
       "</table>\n",
       "</div>"
      ],
      "text/plain": [
       "    Postal Code     District Name    City   Latitude   Longitude\n",
       "0          1001            Quiapo  Manila  14.598485  120.986142\n",
       "1          1002        Intramuros  Manila  14.590882  120.974668\n",
       "2          1003        Santa Cruz  Manila  14.618160  120.984746\n",
       "3          1004            Malate  Manila  14.572039  120.992129\n",
       "4          1005        San Miguel  Manila  14.595627  120.992666\n",
       "5          1006           Binondo  Manila  14.601826  120.974956\n",
       "6          1007              Paco  Manila  14.585956  120.993923\n",
       "7          1008          Sampaloc  Manila  14.611135  120.996290\n",
       "8          1009         Santa Ana  Manila  14.582749  121.013396\n",
       "9          1010       San Nicolas  Manila  14.598296  120.968915\n",
       "10         1011          Pandacan  Manila  14.589910  121.003090\n",
       "11         1012             Tondo  Manila  14.620800  120.965897\n",
       "12         1016        Santa Mesa  Manila  14.597742  121.017614\n",
       "13         1017  San Andres Bukid  Manila  14.572515  121.003684\n",
       "14         1018         Port Area  Manila  14.594557  120.960684\n",
       "15         1000            Ermita  Manila  14.586255  120.987430"
      ]
     },
     "execution_count": 3,
     "metadata": {},
     "output_type": "execute_result"
    }
   ],
   "source": [
    "import pandas as pd\n",
    "df_manila = pd.read_csv('manila.csv')\n",
    "df_manila.drop('Unnamed: 0', axis=1, inplace=True)\n",
    "df_manila"
   ]
  }
 ],
 "metadata": {
  "kernelspec": {
   "display_name": "Python 3",
   "language": "python",
   "name": "python3"
  },
  "language_info": {
   "codemirror_mode": {
    "name": "ipython",
    "version": 3
   },
   "file_extension": ".py",
   "mimetype": "text/x-python",
   "name": "python",
   "nbconvert_exporter": "python",
   "pygments_lexer": "ipython3",
   "version": "3.7.6"
  }
 },
 "nbformat": 4,
 "nbformat_minor": 4
}
