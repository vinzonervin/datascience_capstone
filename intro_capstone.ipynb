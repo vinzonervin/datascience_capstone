{
 "cells": [
  {
   "cell_type": "markdown",
   "metadata": {},
   "source": [
    "# Manila: The New Normal "
   ]
  },
  {
   "cell_type": "markdown",
   "metadata": {},
   "source": [
    "## I. Introduction"
   ]
  },
  {
   "cell_type": "markdown",
   "metadata": {},
   "source": [
    "The year is 2020, where COVID-19 has baffled each and everyone of us to survive, every place is subjected to quarantines and we are locked down in our own houses. The city of Manila is one of those areas that are subjected to be quarantined Enhanced Community Quarantine to be precise. After almost two months and a half, Manila is still in placed of quarantine but  now under General Community Quarantine starting June 1, 2020.  What is General Community Quarantine, what will be the impact of its implementation to establishments in each district and how can we react on this new guidelines."
   ]
  },
  {
   "cell_type": "markdown",
   "metadata": {},
   "source": [
    "**General Community Quarantine (GCQ)**  \n",
    "  Category I Industries -  Power, energy, water and other utilities, agriculture, fishery and forestry industries, food manufacturing and food supply chain stores, and food preparation establishments insofar as take-out and delivery services, food delivery services, health-related establishments, the logistics sector, information technology and telecommunication companies, the media, at *full operational capacity*."
   ]
  },
  {
   "cell_type": "markdown",
   "metadata": {},
   "source": [
    "## II. Data Description"
   ]
  },
  {
   "cell_type": "markdown",
   "metadata": {},
   "source": [
    "To solve the problem stated I used the following data:\n",
    "  * **Official Gazette of the Philippines website** for the guideline of GCQ.\n",
    "  * **Wikipedia** to get the  district names of manila and its postcodes.\n",
    "  * **Foursquare** to get the most common venues nearby the given district.\n",
    "  * **Google Maps**,*What's here* option to get the coordinates of each district.  "
   ]
  },
  {
   "cell_type": "markdown",
   "metadata": {},
   "source": []
  }
 ],
 "metadata": {
  "kernelspec": {
   "display_name": "Python 3",
   "language": "python",
   "name": "python3"
  },
  "language_info": {
   "codemirror_mode": {
    "name": "ipython",
    "version": 3
   },
   "file_extension": ".py",
   "mimetype": "text/x-python",
   "name": "python",
   "nbconvert_exporter": "python",
   "pygments_lexer": "ipython3",
   "version": "3.7.6"
  }
 },
 "nbformat": 4,
 "nbformat_minor": 4
}
